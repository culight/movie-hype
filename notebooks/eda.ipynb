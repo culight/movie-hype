{
 "cells": [
  {
   "cell_type": "markdown",
   "metadata": {},
   "source": [
    "## Load the necessary libraries and files"
   ]
  },
  {
   "cell_type": "code",
   "execution_count": 169,
   "metadata": {
    "collapsed": false,
    "scrolled": true
   },
   "outputs": [],
   "source": [
    "import pandas as pd\n",
    "import numpy as np"
   ]
  },
  {
   "cell_type": "code",
   "execution_count": 170,
   "metadata": {
    "collapsed": false
   },
   "outputs": [],
   "source": [
    "import os\n",
    "import sys\n",
    "\n",
    "# get source and data directories\n",
    "src_dir = os.path.join(os.getcwd(), os.pardir, 'src')\n",
    "data_dir = os.path.join(os.getcwd(), os.pardir, 'data/processed')\n",
    "\n",
    "# set the source data directory as the current path\n",
    "src_data_dir = os.path.join(src_dir, 'data')\n",
    "sys.path.append(src_data_dir)\n",
    "\n",
    "# load the paths to the csv data files\n",
    "interest_file = os.path.join(data_dir, 'movie_interest.csv')\n",
    "tmdb_file = os.path.join(data_dir, 'tmdb_data.csv')\n",
    "\n",
    "# load the csv files into respective dataframes\n",
    "interest_df = pd.read_csv(interest_file)\n",
    "tmdb_df = pd.read_csv(tmdb_file)"
   ]
  },
  {
   "cell_type": "code",
   "execution_count": 171,
   "metadata": {
    "collapsed": true
   },
   "outputs": [],
   "source": [
    "# ignore scientific notation\n",
    "pd.set_option('display.float_format', lambda x: '%.3f' % x)"
   ]
  },
  {
   "cell_type": "markdown",
   "metadata": {},
   "source": [
    "## Clean and transform the data"
   ]
  },
  {
   "cell_type": "markdown",
   "metadata": {},
   "source": [
    "There are 4287 movies with wieghted interest scores and 4916 movies with data from imdb. I'm only interested in the movies that have both imdb data (imdb_df) and interest score data (interest_df), so Inner Join the two dataframes to get the movies common in both. Go ahead and remove whatever duplicates there may be."
   ]
  },
  {
   "cell_type": "markdown",
   "metadata": {},
   "source": [
    "### Merge the data sets"
   ]
  },
  {
   "cell_type": "code",
   "execution_count": 172,
   "metadata": {
    "collapsed": false
   },
   "outputs": [
    {
     "name": "stdout",
     "output_type": "stream",
     "text": [
      "(5853, 5)\n",
      "(3225, 10)\n"
     ]
    }
   ],
   "source": [
    "print(interest_df.shape)\n",
    "print(tmdb_df.shape)"
   ]
  },
  {
   "cell_type": "code",
   "execution_count": 173,
   "metadata": {
    "collapsed": false
   },
   "outputs": [
    {
     "name": "stdout",
     "output_type": "stream",
     "text": [
      "object\n",
      "int64\n"
     ]
    }
   ],
   "source": [
    "# title years are incompatible\n",
    "print(interest_df['title_year'].dtype)\n",
    "print(tmdb_df['title_year'].dtype)"
   ]
  },
  {
   "cell_type": "code",
   "execution_count": 185,
   "metadata": {
    "collapsed": false
   },
   "outputs": [],
   "source": [
    "# identify and correct the row causing the type difference\n",
    "interest_df[interest_df['title_year'] == 'TBA']\n",
    "interest_df = interest_df.drop(2914)\n",
    "interest_df['title_year'] = interest_df['title_year'].apply(int)"
   ]
  },
  {
   "cell_type": "code",
   "execution_count": 186,
   "metadata": {
    "collapsed": false
   },
   "outputs": [
    {
     "name": "stdout",
     "output_type": "stream",
     "text": [
      "(1625, 13)\n"
     ]
    }
   ],
   "source": [
    "# merging the imdb data with the interest data on the movie title to create movie data frame (mdf)\n",
    "mdf = pd.merge(tmdb_df, interest_df, how='inner', on=['movie_title', 'title_year'])\n",
    "print(mdf.shape)"
   ]
  },
  {
   "cell_type": "markdown",
   "metadata": {},
   "source": [
    "### Remove duplicates"
   ]
  },
  {
   "cell_type": "markdown",
   "metadata": {},
   "source": [
    "Take a look at the descriptive statistics to help identify what kind of data cleaning needs to be done:"
   ]
  },
  {
   "cell_type": "code",
   "execution_count": 187,
   "metadata": {
    "collapsed": false
   },
   "outputs": [
    {
     "name": "stdout",
     "output_type": "stream",
     "text": [
      "12\n"
     ]
    }
   ],
   "source": [
    "# remove duplicates\n",
    "#print(mdf.loc[mdf.duplicated()])\n",
    "print(mdf.duplicated().sum())\n",
    "mdf = mdf.drop_duplicates()"
   ]
  },
  {
   "cell_type": "markdown",
   "metadata": {},
   "source": [
    "### Statistical summary"
   ]
  },
  {
   "cell_type": "code",
   "execution_count": 188,
   "metadata": {
    "collapsed": false
   },
   "outputs": [
    {
     "name": "stdout",
     "output_type": "stream",
     "text": [
      "(1613, 13)\n"
     ]
    },
    {
     "data": {
      "text/html": [
       "<div>\n",
       "<table border=\"1\" class=\"dataframe\">\n",
       "  <thead>\n",
       "    <tr style=\"text-align: right;\">\n",
       "      <th></th>\n",
       "      <th>revenue</th>\n",
       "      <th>popularity</th>\n",
       "      <th>budget</th>\n",
       "      <th>vote_count</th>\n",
       "      <th>vote_average</th>\n",
       "      <th>runtime</th>\n",
       "      <th>id</th>\n",
       "      <th>title_year</th>\n",
       "      <th>interest_score</th>\n",
       "      <th>rating</th>\n",
       "      <th>total_votes</th>\n",
       "    </tr>\n",
       "  </thead>\n",
       "  <tbody>\n",
       "    <tr>\n",
       "      <th>count</th>\n",
       "      <td>1613.000</td>\n",
       "      <td>1613.000</td>\n",
       "      <td>1613.000</td>\n",
       "      <td>1613.000</td>\n",
       "      <td>1613.000</td>\n",
       "      <td>1613.000</td>\n",
       "      <td>1613.000</td>\n",
       "      <td>1613.000</td>\n",
       "      <td>1613.000</td>\n",
       "      <td>1613.000</td>\n",
       "      <td>1613.000</td>\n",
       "    </tr>\n",
       "    <tr>\n",
       "      <th>mean</th>\n",
       "      <td>151314794.578</td>\n",
       "      <td>36.069</td>\n",
       "      <td>51894443.779</td>\n",
       "      <td>1266.110</td>\n",
       "      <td>6.231</td>\n",
       "      <td>109.663</td>\n",
       "      <td>67075.626</td>\n",
       "      <td>2009.166</td>\n",
       "      <td>3.468</td>\n",
       "      <td>4.691</td>\n",
       "      <td>1469.752</td>\n",
       "    </tr>\n",
       "    <tr>\n",
       "      <th>std</th>\n",
       "      <td>207640006.842</td>\n",
       "      <td>45.119</td>\n",
       "      <td>50965054.163</td>\n",
       "      <td>1598.858</td>\n",
       "      <td>0.786</td>\n",
       "      <td>18.816</td>\n",
       "      <td>89410.549</td>\n",
       "      <td>4.037</td>\n",
       "      <td>2.298</td>\n",
       "      <td>6.432</td>\n",
       "      <td>3194.959</td>\n",
       "    </tr>\n",
       "    <tr>\n",
       "      <th>min</th>\n",
       "      <td>12.000</td>\n",
       "      <td>0.020</td>\n",
       "      <td>7000.000</td>\n",
       "      <td>3.000</td>\n",
       "      <td>3.000</td>\n",
       "      <td>63.000</td>\n",
       "      <td>13.000</td>\n",
       "      <td>1994.000</td>\n",
       "      <td>0.544</td>\n",
       "      <td>0.000</td>\n",
       "      <td>1.000</td>\n",
       "    </tr>\n",
       "    <tr>\n",
       "      <th>25%</th>\n",
       "      <td>29331068.000</td>\n",
       "      <td>14.819</td>\n",
       "      <td>17000000.000</td>\n",
       "      <td>298.000</td>\n",
       "      <td>5.700</td>\n",
       "      <td>97.000</td>\n",
       "      <td>9372.000</td>\n",
       "      <td>2006.000</td>\n",
       "      <td>2.902</td>\n",
       "      <td>1.000</td>\n",
       "      <td>7.000</td>\n",
       "    </tr>\n",
       "    <tr>\n",
       "      <th>50%</th>\n",
       "      <td>77208711.000</td>\n",
       "      <td>26.589</td>\n",
       "      <td>35000000.000</td>\n",
       "      <td>685.000</td>\n",
       "      <td>6.200</td>\n",
       "      <td>107.000</td>\n",
       "      <td>22821.000</td>\n",
       "      <td>2009.000</td>\n",
       "      <td>3.020</td>\n",
       "      <td>2.810</td>\n",
       "      <td>121.000</td>\n",
       "    </tr>\n",
       "    <tr>\n",
       "      <th>75%</th>\n",
       "      <td>173930596.000</td>\n",
       "      <td>44.108</td>\n",
       "      <td>70000000.000</td>\n",
       "      <td>1567.000</td>\n",
       "      <td>6.800</td>\n",
       "      <td>120.000</td>\n",
       "      <td>81188.000</td>\n",
       "      <td>2013.000</td>\n",
       "      <td>3.465</td>\n",
       "      <td>6.000</td>\n",
       "      <td>1508.000</td>\n",
       "    </tr>\n",
       "    <tr>\n",
       "      <th>max</th>\n",
       "      <td>1519557910.000</td>\n",
       "      <td>875.581</td>\n",
       "      <td>380000000.000</td>\n",
       "      <td>13752.000</td>\n",
       "      <td>8.300</td>\n",
       "      <td>338.000</td>\n",
       "      <td>417859.000</td>\n",
       "      <td>2016.000</td>\n",
       "      <td>28.796</td>\n",
       "      <td>91.000</td>\n",
       "      <td>32150.000</td>\n",
       "    </tr>\n",
       "  </tbody>\n",
       "</table>\n",
       "</div>"
      ],
      "text/plain": [
       "             revenue  popularity        budget  vote_count  vote_average  \\\n",
       "count       1613.000    1613.000      1613.000    1613.000      1613.000   \n",
       "mean   151314794.578      36.069  51894443.779    1266.110         6.231   \n",
       "std    207640006.842      45.119  50965054.163    1598.858         0.786   \n",
       "min           12.000       0.020      7000.000       3.000         3.000   \n",
       "25%     29331068.000      14.819  17000000.000     298.000         5.700   \n",
       "50%     77208711.000      26.589  35000000.000     685.000         6.200   \n",
       "75%    173930596.000      44.108  70000000.000    1567.000         6.800   \n",
       "max   1519557910.000     875.581 380000000.000   13752.000         8.300   \n",
       "\n",
       "       runtime         id  title_year  interest_score   rating  total_votes  \n",
       "count 1613.000   1613.000    1613.000        1613.000 1613.000     1613.000  \n",
       "mean   109.663  67075.626    2009.166           3.468    4.691     1469.752  \n",
       "std     18.816  89410.549       4.037           2.298    6.432     3194.959  \n",
       "min     63.000     13.000    1994.000           0.544    0.000        1.000  \n",
       "25%     97.000   9372.000    2006.000           2.902    1.000        7.000  \n",
       "50%    107.000  22821.000    2009.000           3.020    2.810      121.000  \n",
       "75%    120.000  81188.000    2013.000           3.465    6.000     1508.000  \n",
       "max    338.000 417859.000    2016.000          28.796   91.000    32150.000  "
      ]
     },
     "execution_count": 188,
     "metadata": {},
     "output_type": "execute_result"
    }
   ],
   "source": [
    "# look at shape and basic stats for variables\n",
    "print(mdf.shape)\n",
    "mdf.describe()"
   ]
  },
  {
   "cell_type": "code",
   "execution_count": 168,
   "metadata": {
    "collapsed": false
   },
   "outputs": [
    {
     "name": "stdout",
     "output_type": "stream",
     "text": [
      "0\n",
      "0\n"
     ]
    }
   ],
   "source": [
    "# get a clear count for these missing variables\n",
    "print(np.isnan(mdf['revenue']).sum())\n",
    "print(np.isnan(mdf['budget']).sum())"
   ]
  },
  {
   "cell_type": "markdown",
   "metadata": {},
   "source": [
    "Observations:\n",
    "- only 1,613 movies from the 3000+ collected are in both datasets\n",
    "- all figures appear to be accounted for\n",
    "- must make a distinction between popular and \n",
    "- title_year is a float -- convert to string\n",
    "- some movies have suspiciously small revenues and budgets\n",
    "- some movies had same name but different years, I had to go back and clean the interest data and join on title and year"
   ]
  },
  {
   "cell_type": "markdown",
   "metadata": {},
   "source": [
    "### Clean the data"
   ]
  },
  {
   "cell_type": "markdown",
   "metadata": {},
   "source": [
    "Converting the year variable to a string allows us to use it as a categorical variable"
   ]
  },
  {
   "cell_type": "code",
   "execution_count": 189,
   "metadata": {
    "collapsed": false
   },
   "outputs": [],
   "source": [
    "# convert year to a string\n",
    "mdf['title_year'] = mdf['title_year'].apply(int)\n",
    "mdf['title_year'] = mdf['title_year'].apply(str)"
   ]
  },
  {
   "cell_type": "markdown",
   "metadata": {},
   "source": [
    "Removing very small revenues as I think they may have been entered incorrectly "
   ]
  },
  {
   "cell_type": "code",
   "execution_count": 198,
   "metadata": {
    "collapsed": false
   },
   "outputs": [],
   "source": [
    "small_rev_idx = mdf[mdf['revenue'] < 5000].index\n",
    "mdf = mdf.drop(small_rev_idx)"
   ]
  },
  {
   "cell_type": "markdown",
   "metadata": {},
   "source": [
    "Let's add a profit margin variable"
   ]
  },
  {
   "cell_type": "code",
   "execution_count": 201,
   "metadata": {
    "collapsed": false
   },
   "outputs": [],
   "source": [
    "# add profit margin variable\n",
    "mdf['profit_margin'] = mdf['revenue']/mdf['budget']"
   ]
  },
  {
   "cell_type": "markdown",
   "metadata": {},
   "source": [
    "Drop the id column"
   ]
  },
  {
   "cell_type": "code",
   "execution_count": 203,
   "metadata": {
    "collapsed": true
   },
   "outputs": [],
   "source": [
    "mdf = mdf.drop('id', 1)"
   ]
  },
  {
   "cell_type": "markdown",
   "metadata": {},
   "source": [
    "## How do different variables correlate with the Interest Score?"
   ]
  },
  {
   "cell_type": "markdown",
   "metadata": {},
   "source": [
    " .00-.19 “very weak”\n",
    "\n",
    " .20-.39 “weak”\n",
    "\n",
    " .40-.59 “moderate”\n",
    "\n",
    " .60-.79 “strong”\n",
    "\n",
    " .80-1.0 “very strong”"
   ]
  },
  {
   "cell_type": "code",
   "execution_count": 208,
   "metadata": {
    "collapsed": false
   },
   "outputs": [
    {
     "data": {
      "image/png": "[encoded data removed]",
      "text/plain": [
       "<matplotlib.figure.Figure at 0x10f2cffd0>"
      ]
     },
     "metadata": {},
     "output_type": "display_data"
    }
   ],
   "source": [
    "import matplotlib.pyplot as plt\n",
    "from matplotlib import cm as cm\n",
    "import seaborn as sns\n",
    "\n",
    "corr = mdf.corr()\n",
    "\n",
    "mask = np.zeros_like(corr, dtype=np.bool)\n",
    "mask[np.triu_indices_from(mask)] = True\n",
    "\n",
    "f, ax = plt.subplots(figsize=(11, 9))\n",
    "\n",
    "cmap = sns.diverging_palette(220, 10, as_cmap=True)\n",
    "\n",
    "sns.heatmap(corr, mask=mask, cmap=cmap, vmax=.3, center=0,\n",
    "            square=True, linewidths=.5, cbar_kws={\"shrink\": .5})\n",
    "plt.show()"
   ]
  },
  {
   "cell_type": "code",
   "execution_count": 206,
   "metadata": {
    "collapsed": false,
    "scrolled": true
   },
   "outputs": [
    {
     "name": "stdout",
     "output_type": "stream",
     "text": [
      "genres\n",
      "movie_title\n",
      "title_year\n"
     ]
    },
    {
     "data": {
      "text/plain": [
       "{'budget': 0.20854675522596819,\n",
       " 'popularity': 0.11362954272997097,\n",
       " 'profit_margin': 0.016069561865447557,\n",
       " 'revenue': 0.2603863343778573,\n",
       " 'runtime': 0.038363514051280981,\n",
       " 'vote_average': 0.035649445600780934,\n",
       " 'vote_count': 0.17150275516732813}"
      ]
     },
     "execution_count": 206,
     "metadata": {},
     "output_type": "execute_result"
    }
   ],
   "source": [
    "# create sampling distribution for correlation\n",
    "import random as rd\n",
    "\n",
    "measure_corr_dict = {}\n",
    "\n",
    "for measure in list(mdf.columns):\n",
    "    corr_list = []\n",
    "    if mdf[measure].dtype == object:\n",
    "        print(measure)\n",
    "        continue\n",
    "    for set_iter in range(100):\n",
    "        mdf_sample = mdf.sample(rd.randint(200,201))\n",
    "        corr_list.append(mdf_sample['interest_score'].corr(mdf_sample[measure]))\n",
    "    measure_corr_dict[measure] = np.array(corr_list).mean()\n",
    "\n",
    "del measure_corr_dict['interest_score']\n",
    "del measure_corr_dict['rating']\n",
    "del measure_corr_dict['total_votes']\n",
    "measure_corr_dict"
   ]
  },
  {
   "cell_type": "code",
   "execution_count": 207,
   "metadata": {
    "collapsed": false
   },
   "outputs": [
    {
     "name": "stdout",
     "output_type": "stream",
     "text": [
      "['revenue', 'popularity', 'budget', 'profit_margin', 'vote_count', 'vote_average', 'runtime']\n"
     ]
    },
    {
     "data": {
      "image/png": "[encoded data removed]",
      "text/plain": [
       "<matplotlib.figure.Figure at 0x10f47e7d0>"
      ]
     },
     "metadata": {},
     "output_type": "display_data"
    }
   ],
   "source": [
    "print(measure_corr_dict.keys())\n",
    "y_pos = np.arange(len(measure_corr_dict.keys()))\n",
    "vals = measure_corr_dict.values()\n",
    "plt.barh(y_pos, vals, align = 'center', alpha = 0.5)\n",
    "plt.yticks(y_pos, measure_corr_dict.keys())\n",
    "plt.xlabel('Corr')\n",
    "plt.title('Correlation with Interest Score')\n",
    "plt.show()"
   ]
  },
  {
   "cell_type": "code",
   "execution_count": 233,
   "metadata": {
    "collapsed": false
   },
   "outputs": [
    {
     "data": {
      "text/html": [
       "<div>\n",
       "<table border=\"1\" class=\"dataframe\">\n",
       "  <thead>\n",
       "    <tr style=\"text-align: right;\">\n",
       "      <th></th>\n",
       "      <th>revenue</th>\n",
       "      <th>popularity</th>\n",
       "      <th>budget</th>\n",
       "      <th>vote_count</th>\n",
       "      <th>vote_average</th>\n",
       "      <th>runtime</th>\n",
       "      <th>interest_score</th>\n",
       "      <th>rating</th>\n",
       "      <th>total_votes</th>\n",
       "      <th>profit_margin</th>\n",
       "    </tr>\n",
       "  </thead>\n",
       "  <tbody>\n",
       "    <tr>\n",
       "      <th>count</th>\n",
       "      <td>1609.000</td>\n",
       "      <td>1609.000</td>\n",
       "      <td>1609.000</td>\n",
       "      <td>1609.000</td>\n",
       "      <td>1609.000</td>\n",
       "      <td>1609.000</td>\n",
       "      <td>1609.000</td>\n",
       "      <td>1609.000</td>\n",
       "      <td>1609.000</td>\n",
       "      <td>1609.000</td>\n",
       "    </tr>\n",
       "    <tr>\n",
       "      <th>mean</th>\n",
       "      <td>151690965.544</td>\n",
       "      <td>36.137</td>\n",
       "      <td>51986163.962</td>\n",
       "      <td>1268.793</td>\n",
       "      <td>6.233</td>\n",
       "      <td>109.676</td>\n",
       "      <td>3.469</td>\n",
       "      <td>4.698</td>\n",
       "      <td>1473.398</td>\n",
       "      <td>4.651</td>\n",
       "    </tr>\n",
       "    <tr>\n",
       "      <th>std</th>\n",
       "      <td>207760739.577</td>\n",
       "      <td>45.153</td>\n",
       "      <td>50994461.816</td>\n",
       "      <td>1599.911</td>\n",
       "      <td>0.785</td>\n",
       "      <td>18.829</td>\n",
       "      <td>2.301</td>\n",
       "      <td>6.438</td>\n",
       "      <td>3198.092</td>\n",
       "      <td>19.899</td>\n",
       "    </tr>\n",
       "    <tr>\n",
       "      <th>min</th>\n",
       "      <td>17472.000</td>\n",
       "      <td>0.020</td>\n",
       "      <td>7000.000</td>\n",
       "      <td>3.000</td>\n",
       "      <td>3.000</td>\n",
       "      <td>63.000</td>\n",
       "      <td>0.544</td>\n",
       "      <td>0.000</td>\n",
       "      <td>1.000</td>\n",
       "      <td>0.001</td>\n",
       "    </tr>\n",
       "    <tr>\n",
       "      <th>25%</th>\n",
       "      <td>29657751.000</td>\n",
       "      <td>14.839</td>\n",
       "      <td>17000000.000</td>\n",
       "      <td>299.000</td>\n",
       "      <td>5.700</td>\n",
       "      <td>97.000</td>\n",
       "      <td>2.902</td>\n",
       "      <td>1.000</td>\n",
       "      <td>7.000</td>\n",
       "      <td>1.130</td>\n",
       "    </tr>\n",
       "    <tr>\n",
       "      <th>50%</th>\n",
       "      <td>77477008.000</td>\n",
       "      <td>26.620</td>\n",
       "      <td>35000000.000</td>\n",
       "      <td>688.000</td>\n",
       "      <td>6.200</td>\n",
       "      <td>107.000</td>\n",
       "      <td>3.020</td>\n",
       "      <td>2.810</td>\n",
       "      <td>122.000</td>\n",
       "      <td>2.301</td>\n",
       "    </tr>\n",
       "    <tr>\n",
       "      <th>75%</th>\n",
       "      <td>173965010.000</td>\n",
       "      <td>44.120</td>\n",
       "      <td>70000000.000</td>\n",
       "      <td>1570.000</td>\n",
       "      <td>6.800</td>\n",
       "      <td>120.000</td>\n",
       "      <td>3.465</td>\n",
       "      <td>6.000</td>\n",
       "      <td>1524.000</td>\n",
       "      <td>4.026</td>\n",
       "    </tr>\n",
       "    <tr>\n",
       "      <th>max</th>\n",
       "      <td>1519557910.000</td>\n",
       "      <td>875.581</td>\n",
       "      <td>380000000.000</td>\n",
       "      <td>13752.000</td>\n",
       "      <td>8.300</td>\n",
       "      <td>338.000</td>\n",
       "      <td>28.796</td>\n",
       "      <td>91.000</td>\n",
       "      <td>32150.000</td>\n",
       "      <td>439.617</td>\n",
       "    </tr>\n",
       "  </tbody>\n",
       "</table>\n",
       "</div>"
      ],
      "text/plain": [
       "             revenue  popularity        budget  vote_count  vote_average  \\\n",
       "count       1609.000    1609.000      1609.000    1609.000      1609.000   \n",
       "mean   151690965.544      36.137  51986163.962    1268.793         6.233   \n",
       "std    207760739.577      45.153  50994461.816    1599.911         0.785   \n",
       "min        17472.000       0.020      7000.000       3.000         3.000   \n",
       "25%     29657751.000      14.839  17000000.000     299.000         5.700   \n",
       "50%     77477008.000      26.620  35000000.000     688.000         6.200   \n",
       "75%    173965010.000      44.120  70000000.000    1570.000         6.800   \n",
       "max   1519557910.000     875.581 380000000.000   13752.000         8.300   \n",
       "\n",
       "       runtime  interest_score   rating  total_votes  profit_margin  \n",
       "count 1609.000        1609.000 1609.000     1609.000       1609.000  \n",
       "mean   109.676           3.469    4.698     1473.398          4.651  \n",
       "std     18.829           2.301    6.438     3198.092         19.899  \n",
       "min     63.000           0.544    0.000        1.000          0.001  \n",
       "25%     97.000           2.902    1.000        7.000          1.130  \n",
       "50%    107.000           3.020    2.810      122.000          2.301  \n",
       "75%    120.000           3.465    6.000     1524.000          4.026  \n",
       "max    338.000          28.796   91.000    32150.000        439.617  "
      ]
     },
     "execution_count": 233,
     "metadata": {},
     "output_type": "execute_result"
    }
   ],
   "source": [
    "mdf.describe()"
   ]
  },
  {
   "cell_type": "code",
   "execution_count": 234,
   "metadata": {
    "collapsed": false
   },
   "outputs": [
    {
     "data": {
      "text/html": [
       "<div>\n",
       "<table border=\"1\" class=\"dataframe\">\n",
       "  <thead>\n",
       "    <tr style=\"text-align: right;\">\n",
       "      <th></th>\n",
       "      <th>genres</th>\n",
       "      <th>revenue</th>\n",
       "      <th>popularity</th>\n",
       "      <th>budget</th>\n",
       "      <th>vote_count</th>\n",
       "      <th>movie_title</th>\n",
       "      <th>vote_average</th>\n",
       "      <th>runtime</th>\n",
       "      <th>title_year</th>\n",
       "      <th>interest_score</th>\n",
       "      <th>rating</th>\n",
       "      <th>total_votes</th>\n",
       "      <th>profit_margin</th>\n",
       "    </tr>\n",
       "  </thead>\n",
       "  <tbody>\n",
       "    <tr>\n",
       "      <th>111</th>\n",
       "      <td>Action|Adventure|Science Fiction|Thriller</td>\n",
       "      <td>378858340</td>\n",
       "      <td>434.279</td>\n",
       "      <td>150000000</td>\n",
       "      <td>9427</td>\n",
       "      <td>mad max fury road</td>\n",
       "      <td>7.200</td>\n",
       "      <td>120</td>\n",
       "      <td>2015</td>\n",
       "      <td>1.972</td>\n",
       "      <td>1.820</td>\n",
       "      <td>4344</td>\n",
       "      <td>2.526</td>\n",
       "    </tr>\n",
       "    <tr>\n",
       "      <th>82</th>\n",
       "      <td>Adventure|Drama|Science Fiction</td>\n",
       "      <td>675120017</td>\n",
       "      <td>724.248</td>\n",
       "      <td>165000000</td>\n",
       "      <td>10867</td>\n",
       "      <td>interstellar</td>\n",
       "      <td>8.100</td>\n",
       "      <td>169</td>\n",
       "      <td>2014</td>\n",
       "      <td>1.183</td>\n",
       "      <td>0.920</td>\n",
       "      <td>4398</td>\n",
       "      <td>4.092</td>\n",
       "    </tr>\n",
       "    <tr>\n",
       "      <th>81</th>\n",
       "      <td>Action|Science Fiction|Adventure</td>\n",
       "      <td>773328629</td>\n",
       "      <td>481.099</td>\n",
       "      <td>170000000</td>\n",
       "      <td>9742</td>\n",
       "      <td>guardians of the galaxy</td>\n",
       "      <td>7.900</td>\n",
       "      <td>121</td>\n",
       "      <td>2014</td>\n",
       "      <td>2.209</td>\n",
       "      <td>2.140</td>\n",
       "      <td>7386</td>\n",
       "      <td>4.549</td>\n",
       "    </tr>\n",
       "    <tr>\n",
       "      <th>23</th>\n",
       "      <td>Action|Adventure|Science Fiction|Thriller</td>\n",
       "      <td>1513528810</td>\n",
       "      <td>418.709</td>\n",
       "      <td>150000000</td>\n",
       "      <td>8662</td>\n",
       "      <td>jurassic world</td>\n",
       "      <td>6.500</td>\n",
       "      <td>124</td>\n",
       "      <td>2015</td>\n",
       "      <td>6.127</td>\n",
       "      <td>6.230</td>\n",
       "      <td>18923</td>\n",
       "      <td>10.090</td>\n",
       "    </tr>\n",
       "    <tr>\n",
       "      <th>503</th>\n",
       "      <td>Action|Adventure|Comedy</td>\n",
       "      <td>783112979</td>\n",
       "      <td>514.570</td>\n",
       "      <td>58000000</td>\n",
       "      <td>10995</td>\n",
       "      <td>deadpool</td>\n",
       "      <td>7.400</td>\n",
       "      <td>108</td>\n",
       "      <td>2016</td>\n",
       "      <td>13.265</td>\n",
       "      <td>13.640</td>\n",
       "      <td>17147</td>\n",
       "      <td>13.502</td>\n",
       "    </tr>\n",
       "    <tr>\n",
       "      <th>376</th>\n",
       "      <td>Family|Animation|Adventure|Comedy</td>\n",
       "      <td>1156730962</td>\n",
       "      <td>875.581</td>\n",
       "      <td>74000000</td>\n",
       "      <td>4571</td>\n",
       "      <td>minions</td>\n",
       "      <td>6.400</td>\n",
       "      <td>91</td>\n",
       "      <td>2015</td>\n",
       "      <td>3.792</td>\n",
       "      <td>3.830</td>\n",
       "      <td>12804</td>\n",
       "      <td>15.631</td>\n",
       "    </tr>\n",
       "  </tbody>\n",
       "</table>\n",
       "</div>"
      ],
      "text/plain": [
       "                                        genres     revenue  popularity  \\\n",
       "111  Action|Adventure|Science Fiction|Thriller   378858340     434.279   \n",
       "82             Adventure|Drama|Science Fiction   675120017     724.248   \n",
       "81            Action|Science Fiction|Adventure   773328629     481.099   \n",
       "23   Action|Adventure|Science Fiction|Thriller  1513528810     418.709   \n",
       "503                    Action|Adventure|Comedy   783112979     514.570   \n",
       "376          Family|Animation|Adventure|Comedy  1156730962     875.581   \n",
       "\n",
       "        budget  vote_count              movie_title  vote_average  runtime  \\\n",
       "111  150000000        9427        mad max fury road         7.200      120   \n",
       "82   165000000       10867             interstellar         8.100      169   \n",
       "81   170000000        9742  guardians of the galaxy         7.900      121   \n",
       "23   150000000        8662           jurassic world         6.500      124   \n",
       "503   58000000       10995                 deadpool         7.400      108   \n",
       "376   74000000        4571                  minions         6.400       91   \n",
       "\n",
       "    title_year  interest_score  rating  total_votes  profit_margin  \n",
       "111       2015           1.972   1.820         4344          2.526  \n",
       "82        2014           1.183   0.920         4398          4.092  \n",
       "81        2014           2.209   2.140         7386          4.549  \n",
       "23        2015           6.127   6.230        18923         10.090  \n",
       "503       2016          13.265  13.640        17147         13.502  \n",
       "376       2015           3.792   3.830        12804         15.631  "
      ]
     },
     "execution_count": 234,
     "metadata": {},
     "output_type": "execute_result"
    }
   ],
   "source": [
    "mdf[mdf['popularity'] > 300].sort_values(by='profit_margin')"
   ]
  }
 ],
 "metadata": {
  "anaconda-cloud": {},
  "kernelspec": {
   "display_name": "Python [conda env:DAND]",
   "language": "python",
   "name": "conda-env-DAND-py"
  },
  "language_info": {
   "codemirror_mode": {
    "name": "ipython",
    "version": 2
   },
   "file_extension": ".py",
   "mimetype": "text/x-python",
   "name": "python",
   "nbconvert_exporter": "python",
   "pygments_lexer": "ipython2",
   "version": "2.7.12"
  }
 },
 "nbformat": 4,
 "nbformat_minor": 1
}
