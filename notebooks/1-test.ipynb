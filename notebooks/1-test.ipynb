{
 "cells": [
  {
   "cell_type": "markdown",
   "metadata": {},
   "source": [
    "### Load the relevant paths and modules"
   ]
  },
  {
   "cell_type": "code",
   "execution_count": 2,
   "metadata": {
    "collapsed": false
   },
   "outputs": [],
   "source": [
    "# set the auto-reload for the cells with %aimport\n",
    "%load_ext autoreload\n",
    "%autoreload 1"
   ]
  },
  {
   "cell_type": "code",
   "execution_count": 3,
   "metadata": {
    "collapsed": true
   },
   "outputs": [],
   "source": [
    "import os\n",
    "import sys\n",
    "\n",
    "# get source and data directories\n",
    "\n",
    "src_dir = os.path.join(os.getcwd(), os.pardir, 'src')\n",
    "data_dir = os.path.join(os.getcwd(), os.pardir, 'data')\n",
    "\n",
    "# set the source data directory as the current path\n",
    "src_data_dir = os.path.join(src_dir, 'data')\n",
    "sys.path.append(src_data_dir)"
   ]
  },
  {
   "cell_type": "code",
   "execution_count": 4,
   "metadata": {
    "collapsed": false
   },
   "outputs": [],
   "source": [
    "\n",
    "# load the web scraping modules\n",
    "%aimport feedback\n",
    "import feedback as fb"
   ]
  },
  {
   "cell_type": "code",
   "execution_count": 5,
   "metadata": {
    "collapsed": true
   },
   "outputs": [],
   "source": [
    "%aimport database\n",
    "import database as db\n",
    "import sqlite3"
   ]
  },
  {
   "cell_type": "markdown",
   "metadata": {},
   "source": [
    "### Insert movie details data into SQL database"
   ]
  },
  {
   "cell_type": "code",
   "execution_count": 61,
   "metadata": {
    "collapsed": false
   },
   "outputs": [],
   "source": [
    "movie_db = os.path.join(data_dir, 'processed/movie_hype.db')\n",
    "db.create_file(movie_db)"
   ]
  },
  {
   "cell_type": "code",
   "execution_count": 62,
   "metadata": {
    "collapsed": false
   },
   "outputs": [
    {
     "name": "stdout",
     "output_type": "stream",
     "text": [
      "clearing tables...\n",
      "done!\n"
     ]
    }
   ],
   "source": [
    "connection = sqlite3.connect(db.DB_FILE)\n",
    "connection.text_factory = str\n",
    "db.clear_tables(connection)"
   ]
  },
  {
   "cell_type": "code",
   "execution_count": 63,
   "metadata": {
    "collapsed": false
   },
   "outputs": [
    {
     "name": "stdout",
     "output_type": "stream",
     "text": [
      "creating tables...\n",
      "done!\n"
     ]
    }
   ],
   "source": [
    "db.create_tables(connection)"
   ]
  },
  {
   "cell_type": "code",
   "execution_count": 64,
   "metadata": {
    "collapsed": false
   },
   "outputs": [
    {
     "name": "stdout",
     "output_type": "stream",
     "text": [
      "('inserting ', '/Users/dmoton/projects/data_projects/movie-hype/notebooks/../data/interim/movie_finance.csv', 'into', '/Users/dmoton/projects/data_projects/movie-hype/notebooks/../data/processed/movie_hype.db', '...')\n",
      "done!\n"
     ]
    }
   ],
   "source": [
    "movie_csv = os.path.join(data_dir, 'interim/movie_finance.csv')\n",
    "db.insert_movies(movie_csv, connection)"
   ]
  },
  {
   "cell_type": "markdown",
   "metadata": {},
   "source": [
    "### Scrape movie data and place in SQL database"
   ]
  },
  {
   "cell_type": "code",
   "execution_count": 66,
   "metadata": {
    "collapsed": false
   },
   "outputs": [],
   "source": [
    "# get a list of movies for a particular year\n",
    "years = ['2012', '2013']\n",
    "# get a list of movie urls for each desired year\n",
    "movie_urls = fb.get_movie_urls(years)"
   ]
  },
  {
   "cell_type": "code",
   "execution_count": 68,
   "metadata": {
    "collapsed": false
   },
   "outputs": [
    {
     "data": {
      "text/plain": [
       "1180"
      ]
     },
     "execution_count": 68,
     "metadata": {},
     "output_type": "execute_result"
    }
   ],
   "source": [
    "len(movie_urls)"
   ]
  },
  {
   "cell_type": "code",
   "execution_count": 73,
   "metadata": {
    "collapsed": false
   },
   "outputs": [
    {
     "name": "stdout",
     "output_type": "stream",
     "text": [
      "scraping data from movie website...\n",
      "SELECT name FROM 'movie'       WHERE (year >= 2012 AND year <= 2016)\n",
      "executing query...\n",
      "done!\n",
      "['42', '12 Years a Slave', '13 Hours: The Secret Soldiers of Benghazi', '2 Guns', '21 and Over', '22 Jump Street', '3 Days to Kill', '300: Rise of an Empire', '47 Ronin', 'A Good Day to Die Hard', 'A Million Ways to Die in The West', 'A Most Violent Year', 'A Most Wanted Man', 'A Walk Among the Tombstones', 'About Last Night', 'About Time', 'Admission', 'After Earth', 'Alex Cross', 'Alexander and the Terrible, Horrible, No Good, Very Bad Day', 'Aloha', 'Alvin and the Chipmunks: The Road Chip', 'American Hustle', 'American Reunion', 'American Sniper', 'And So It Goes', 'Anna Karenina', 'Annie', 'Ant-Man', 'Argo', 'Baahubali: The Beginning', 'Batman v Superman: Dawn of Justice', 'Battle of the Year', 'Beautiful Creatures', 'Before I Go to Sleep', 'Big Hero 6', 'Birdman or (The Unexpected Virtue of Ignorance)', 'Black Mass', 'Black Nativity', 'Blackhat', 'Blended', 'Blood Ties', 'Blue Jasmine', 'Brave', 'Brick Mansions', 'Bridge of Spies', 'Broken City', 'Brooklyn', 'Brothers (2015)', 'Burnt', 'By the Sea', 'Captain America: The Winter Soldier', 'Captain Phillips', 'Carrie', 'Chappie', 'Chasing Mavericks', 'Child 44', 'Cinderella', 'Cirque du Soleil: Worlds Away', 'Cloudy with a Chance of Meatballs 2', 'Concussion', 'Creed', 'Criminal', 'Daddy\\x8a\\x97\\xc8s Home', 'Dangerous Liaisons', 'Dawn of the Planet of the Apes', 'Dead Man Down', 'Deadpool', 'Deliver Us from Evil', 'Delivery Man', 'Despicable Me 2', 'Diary of a Wimpy Kid: Dog Days', 'Disney Planes', 'Divergent', 'Dolphin Tale 2', 'Dracula Untold', 'Draft Day', 'Dumb and Dumber To', 'Earth to Echo', 'Eddie the Eagle', 'Elysium', 'End of Watch', \"Ender's Game\", 'Endless Love', 'Entourage', 'Epic', 'Ernest et Celestine', 'Escape From Planet Earth', 'Escape Plan', 'Escobar: Paradise Lost', 'Everest', 'Evil Dead', 'Ex Machina', 'Exodus: Gods and Kings', 'Fantastic Four (2015)', 'Fast and Furious 6', 'Fifty Shades of Grey', 'Flight', 'Focus', 'For Greater Glory', 'Free Birds', 'Frozen', 'Fun Size ', 'Furious 7', 'Fury', 'G.I. Joe: Retaliation', 'Get Hard', 'Get on Up', 'Getaway', 'Gods of Egypt', 'Godzilla', 'Gone Girl', 'Goosebumps', 'Gravity', 'Grown Ups 2', 'Grudge Match', 'Guardians of the Galaxy', 'Hail, Caesar!', 'Heaven is for Real', 'Her', 'Hercules', 'Hit & Run', 'Home', 'Homefront', 'Horrible Bosses 2', 'Hot Pursuit', 'Hot Tub Time Machine 2', 'Hotel Transylvania 2', 'How to be Single', 'How to Train Your Dragon 2', 'I, Frankenstein', 'Ice Age: Continental Drift', 'Identity Thief', 'If I Stay', 'In the Heart of the Sea', 'Inherent Vice', 'Inside Llewyn Davis', 'Inside Out', 'Interstellar', 'Into the Storm', 'Into the Woods', 'Iron Man 3', 'Jack Reacher', 'Jack Ryan: Shadow Recruit', 'Jackass Presents: Bad Grandpa', 'Jane Got a Gun', 'Jersey Boys', 'Jobs', 'Joy', 'Jupiter Ascending', 'Jurassic World', 'Katy Perry: Part of Me', 'Kick-Ass 2', 'Killing Them Softly', 'Krampus', 'Kung Fu Panda 3', 'La grande bellezza', 'Last Vegas', 'Le pr\\x92\\xa9nom', 'Left Behind', 'Legends of Oz: Dorothy\\x8a\\x97\\xc8s Return', 'Les Miserables', 'Let\\x8a\\x97\\xc8s Be Cops', 'Little Boy', 'London Has Fallen', 'Love the Coopers', 'Lucy', 'Machete Kills', 'Mad Max: Fury Road', \"Madagascar 3: Europe's Most Wanted\", 'Magic Mike XXL', 'Maleficent', 'Mama', 'Man of Steel', 'Mandela: Long Walk to Freedom', 'Max', 'Maze Runner: The Scorch Trials', 'McFarland, USA', 'Metallica Through the Never', 'Midnight Special', 'Million Dollar Arm', 'Minions', 'Miracles from Heaven', 'Mirror Mirror', 'Mission: Impossible - Rogue Nation', 'Monsters University', 'Mr. Peabody & Sherman', 'Mr. Turner', 'Muppets Most Wanted', 'My Big Fat Greek Wedding 2', 'Nebraska', 'Need for Speed', 'Neighbors', 'Nie yin niang', 'Night at the Museum: Secret of the Tomb', 'No Good Deed', 'Noah', 'Non-Stop', 'Now You See Me', 'Oblivion', 'Olympus Has Fallen', 'Our Brand is Crisis', 'Out of the Furnace', 'Pacific Rim', 'Paddington', 'Pain & Gain', 'Pan', 'Paper Towns', 'Paranoia', 'Parental Guidance', 'Paul Blart: Mall Cop 2', 'Peeples', 'Penguins of Madagascar', 'Percy Jackson: Sea of Monsters', 'Phantom', 'Philomena', 'Pitch Perfect', 'Pitch Perfect 2', 'Pixels', 'Planes: Fire and Rescue', 'Point Break', 'Poltergeist', 'Pompeii', 'Pride and Prejudice and Zombies', 'Prisoners', 'Project Almanac', 'RED 2', 'Redemption', 'Regression', 'Resident Evil: Retribution', 'Ride Along 2', 'Rio 2', 'Rise of the Guardians', 'Risen', 'RoboCop', 'Room', 'Run All Night', 'Runner Runner', 'Rush', 'Sabotage', 'San Andreas', 'Savages', 'Saving Mr. Banks', \"Scout's Guide to the Zombie Apocalypse\", 'Secret in Their Eyes', 'Self/Less', 'Selma', 'Seven Psychopaths', 'Seventh Son', 'Sex Tape', 'Shaun the Sheep', 'Sicario', 'Side Effects', 'Silent Hill: Revelation 3D', 'Silver Linings Playbook', 'Skyfall', 'Snitch', 'Snowpiercer', 'Son of God', 'Southpaw', 'Spectre', 'Spotlight', 'Spy!', 'St. Vincent', 'Star Trek Into Darkness', 'Star Wars Ep. VII: The Force Awakens', 'Straight Outta Compton', 'Taken 3', 'Tammy', 'Ted 2', 'Teenage Mutant Ninja Turtles', 'Terminator: Genisys', 'Texas Chainsaw 3D', 'The 33', 'The 5th Wave', 'The Age of Adaline', 'The Amazing Spider-Man', 'The Amazing Spider-Man 2', 'The Avengers', 'The Avengers: Age of Ultron', 'The Best Man Holiday', 'The Best of Me', 'The Big Short', 'The Book of Life', 'The Book Thief', 'The Boss', 'The Boxtrolls', 'The Call', 'The Conjuring', 'The Counselor', 'The Croods', 'The Dark Knight Rises', 'The Divergent Series: Allegiant', 'The Divergent Series: Insurgent', 'The Expendables 2', 'The Expendables 3', 'The Family', 'The Fault in Our Stars', 'The Fifth Estate', 'The Finest Hours', 'The Gambler', 'The Giver', 'The Good Dinosaur', 'The Grand Budapest Hotel', 'The Great Gatsby', 'The Gunman', 'The Hangover 3', 'The Hateful Eight', 'The Heat', 'The Hobbit: An Unexpected Journey', 'The Hobbit: The Battle of the Five Armies', 'The Hobbit: The Desolation of Smaug', 'The Homesman', 'The Host', 'The Hundred-Foot Journey', 'The Hunger Games: Catching Fire', 'The Hunger Games: Mockingjay - Part 1', 'The Hunger Games: Mockingjay - Part 2', 'The Huntsman: Winter\\x8a\\x97\\xc8s War', 'The Imitation Game', 'The Immigrant', 'The Incredible Burt Wonderstone', 'The Intern', 'The Internship', 'The Interview', 'The Judge', 'The Jungle Book', 'The Last Days on Mars', 'The Last Stand', 'The Last Witch Hunter', 'The Legend of Hercules', 'The Lego Movie', 'The Lone Ranger', 'The Longest Ride', 'The Man From U.N.C.L.E.', 'The Martian', 'The Master', 'The Maze Runner', 'The Monuments Men', 'The Mortal Instruments: City of Bones', 'The November Man', 'The Nut Job', 'The Other Woman', 'The Peanuts Movie', 'The Place Beyond the Pines', 'The Railway Man', 'The Revenant', 'The Secret Life of Walter Mitty', 'The Smurfs 2', 'The SpongeBob Movie: Sponge Out of Water', 'The Theory of Everything', 'The Transporter Refueled', 'The Twilight Saga: Breaking Dawn, Part 2', 'The Vatican Tapes', 'The Walk', 'The Water Diviner', 'The Wolverine', \"The World's End\", 'The Young and Prodigious T.S. Spivet', 'The Young Messiah', 'Think Like a Man', 'Think Like a Man Too', 'This is the End', 'This is Where I Leave You', 'Thor: The Dark World', 'Thunder and the House of Magic', 'Tian jiang xiong shi', 'To Rome with Love', 'Tomorrowland', 'Top Five', 'Total Recall', 'Trainwreck', 'Trance', 'Transcendence', 'Transformers: Age of Extinction', 'Trash', 'Triple 9', 'Trouble with the Curve', 'Turbo', \"Tyler Perry's Madea's Witness Protection\", 'Unbroken', 'Under the Skin', 'Unfinished Business', 'United Passions', 'Vacation', 'Victor Frankenstein', 'Walking with Dinosaurs', 'Warm Bodies', \"We're the Millers\", \"What to Expect When You're Expecting\", 'When the Game Stands Tall', 'White House Down', 'Wild', 'Wild Card', \"Winter's Tale\", 'Woman in Gold', 'Wrath of the Titans', 'Wreck-It Ralph', 'X-Men: Days of Future Past', 'Xi You Ji zhi Sun Wu Kong San Da Bai Gu Jing', 'Yi dai zong shi', 'Yip Man 3', 'Zero Dark Thirty', 'Zoolander 2']\n"
     ]
    },
    {
     "name": "stderr",
     "output_type": "stream",
     "text": [
      "/Users/dmoton/projects/data_projects/movie-hype/notebooks/../src/data/feedback.py:65: UnicodeWarning: Unicode equal comparison failed to convert both arguments to Unicode - interpreting them as being unequal\n",
      "  continue\n"
     ]
    }
   ],
   "source": [
    "# scrape the desired data and convert it to csv\n",
    "movie_data = []\n",
    "movie_data = fb.scrape(movie_urls, connection)"
   ]
  },
  {
   "cell_type": "code",
   "execution_count": 60,
   "metadata": {
    "collapsed": false
   },
   "outputs": [
    {
     "name": "stdout",
     "output_type": "stream",
     "text": [
      "('creating ', 'movie_feedback.csv', '...')\n",
      "done!\n"
     ]
    }
   ],
   "source": [
    "interim_data_dir = os.path.join(data_dir, 'interim')\n",
    "fb.convert_to_csv(movie_data, interim_data_dir, 'movie_feedback.csv')"
   ]
  },
  {
   "cell_type": "code",
   "execution_count": 65,
   "metadata": {
    "collapsed": false
   },
   "outputs": [
    {
     "name": "stdout",
     "output_type": "stream",
     "text": [
      "done!\n"
     ]
    }
   ],
   "source": [
    "feedback_csv = os.path.join(interim_data_dir, 'movie_feedback.csv')\n",
    "db.insert_feedback(feedback_csv, connection)"
   ]
  },
  {
   "cell_type": "code",
   "execution_count": null,
   "metadata": {
    "collapsed": true
   },
   "outputs": [],
   "source": []
  }
 ],
 "metadata": {
  "anaconda-cloud": {},
  "kernelspec": {
   "display_name": "Python [conda env:DAND]",
   "language": "python",
   "name": "conda-env-DAND-py"
  },
  "language_info": {
   "codemirror_mode": {
    "name": "ipython",
    "version": 2
   },
   "file_extension": ".py",
   "mimetype": "text/x-python",
   "name": "python",
   "nbconvert_exporter": "python",
   "pygments_lexer": "ipython2",
   "version": "2.7.12"
  }
 },
 "nbformat": 4,
 "nbformat_minor": 1
}
