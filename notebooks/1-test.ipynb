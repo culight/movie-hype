{
 "cells": [
  {
   "cell_type": "markdown",
   "metadata": {},
   "source": [
    "### Load the relevant paths and modules"
   ]
  },
  {
   "cell_type": "code",
   "execution_count": 1,
   "metadata": {
    "collapsed": false
   },
   "outputs": [],
   "source": [
    "# set the auto-reload for the cells with %aimport\n",
    "%load_ext autoreload\n",
    "%autoreload 1\n"
   ]
  },
  {
   "cell_type": "code",
   "execution_count": 2,
   "metadata": {
    "collapsed": true
   },
   "outputs": [],
   "source": [
    "import os\n",
    "import sys\n",
    "\n",
    "# get source and data directories\n",
    "src_dir = os.path.join(os.getcwd(), os.pardir, 'src')\n",
    "data_dir = os.path.join(os.getcwd(), os.pardir, 'data')\n",
    "\n",
    "# set the source data directory as the current path\n",
    "src_data_dir = os.path.join(src_dir, 'data')\n",
    "sys.path.append(src_data_dir)"
   ]
  },
  {
   "cell_type": "code",
   "execution_count": 5,
   "metadata": {
    "collapsed": false
   },
   "outputs": [],
   "source": [
    "\n",
    "# load the web scraping modules\n",
    "%aimport feedback\n",
    "import feedback as fb"
   ]
  },
  {
   "cell_type": "markdown",
   "metadata": {},
   "source": [
    "### Scrape movie data and place in SQL database"
   ]
  },
  {
   "cell_type": "code",
   "execution_count": 7,
   "metadata": {
    "collapsed": false
   },
   "outputs": [],
   "source": [
    "# get a list of movies for a particular year\n",
    "years = ['2012', '2013', '2014', '2015', '2016']\n",
    "movie_list_url = fb.get_movielist_url(years[0])\n",
    "\n",
    "# get the html for the list of movies\n",
    "movie_list_html = fb.get_html(movie_list_url)\n",
    "\n",
    "# parse the html to get a list of movies\n",
    "movie_urls = fb.get_movie_urls(movie_list_html)"
   ]
  },
  {
   "cell_type": "code",
   "execution_count": 12,
   "metadata": {
    "collapsed": false
   },
   "outputs": [
    {
     "name": "stdout",
     "output_type": "stream",
     "text": [
      "[{'rating': 0.67, 'interest score': 1.1, 'review count': u'89', 'title': u'Piranha 3DD'}, {'rating': 0.93, 'interest score': 9.22, 'review count': u'582', 'title': u'The Dark Knight Rises'}, {'rating': 0.73, 'interest score': 2.28, 'review count': u'55', 'title': u'The Possession'}, {'rating': 0.86, 'interest score': 5.53, 'review count': u'228', 'title': u'Life of Pi'}, {'rating': 0.9, 'interest score': 6.45, 'review count': u'182', 'title': u'Skyfall'}, {'rating': 0.87, 'interest score': 12.25, 'review count': u'148', 'title': u'The Expendables 2'}, {'rating': 0.81, 'interest score': 6.58, 'review count': u'348', 'title': u'Chronicle'}, {'rating': 0.79, 'interest score': 2.26, 'review count': u'173', 'title': u'Battleship'}, {'rating': 0.55, 'interest score': 0.85, 'review count': u'15', 'title': u\"Won't Back Down\"}, {'rating': 0.78, 'interest score': 2.5, 'review count': u'225', 'title': u'John Carter'}, {'rating': 0.77, 'interest score': 3.18, 'review count': u'43', 'title': u'House at the End of the Street'}, {'rating': 0.61, 'interest score': 2.38, 'review count': u'16', 'title': u'Playback'}, {'rating': 0.75, 'interest score': 28.03, 'review count': u'204', 'title': u'One for the Money'}, {'rating': 0.89, 'interest score': 0.84, 'review count': u'353', 'title': u'Titanic'}, {'rating': 0.78, 'interest score': 1.28, 'review count': u'147', 'title': u'Project X'}, {'rating': 0.92, 'interest score': 3.1, 'review count': u'22', 'title': u'To Kill A Mockingbird'}, {'rating': 0.84, 'interest score': 16.67, 'review count': u'142', 'title': u'Red Tails'}, {'rating': 0.83, 'interest score': 15.21, 'review count': u'109', 'title': u'Safe House'}, {'rating': 0.78, 'interest score': 1.28, 'review count': u'124', 'title': u'Zero Dark Thirty'}, {'rating': 0.92, 'interest score': 10.12, 'review count': u'1,206', 'title': u'The Avengers'}, {'rating': 0.81, 'interest score': 10.34, 'review count': u'74', 'title': u'Man on a Ledge'}, {'rating': 0.79, 'interest score': 4.42, 'review count': u'81', 'title': u'Total Recall'}, {'rating': 0.72, 'interest score': 8.68, 'review count': u'10', 'title': u'People Like Us'}, {'rating': 0.78, 'interest score': 6.47, 'review count': u'42', 'title': u'Lockout'}, {'rating': 0.87, 'interest score': 6.79, 'review count': u'127', 'title': u'Brave'}, {'rating': 0.78, 'interest score': 3.69, 'review count': u'348', 'title': u'Journey 2: The Mysterious Island'}, {'rating': 0.81, 'interest score': 14.73, 'review count': u'155', 'title': u'Think Like a Man'}, {'rating': 0.83, 'interest score': 5.07, 'review count': u'102', 'title': u'The Bourne Legacy'}]\n"
     ]
    }
   ],
   "source": [
    "# scrape the desired data and convert it to csv\n",
    "fb.scrape(movie_urls)\n",
    "\n",
    "# write the csv data to SQL database"
   ]
  },
  {
   "cell_type": "code",
   "execution_count": null,
   "metadata": {
    "collapsed": true
   },
   "outputs": [],
   "source": []
  }
 ],
 "metadata": {
  "anaconda-cloud": {},
  "kernelspec": {
   "display_name": "Python [conda env:DAND]",
   "language": "python",
   "name": "conda-env-DAND-py"
  },
  "language_info": {
   "codemirror_mode": {
    "name": "ipython",
    "version": 2
   },
   "file_extension": ".py",
   "mimetype": "text/x-python",
   "name": "python",
   "nbconvert_exporter": "python",
   "pygments_lexer": "ipython2",
   "version": "2.7.12"
  }
 },
 "nbformat": 4,
 "nbformat_minor": 1
}
