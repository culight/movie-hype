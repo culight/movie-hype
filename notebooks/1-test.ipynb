{
 "cells": [
  {
   "cell_type": "markdown",
   "metadata": {},
   "source": [
    "### Load the relevant paths and modules"
   ]
  },
  {
   "cell_type": "code",
   "execution_count": 1,
   "metadata": {
    "collapsed": false
   },
   "outputs": [],
   "source": [
    "# set the auto-reload for the cells with %aimport\n",
    "%load_ext autoreload\n",
    "%autoreload 1\n"
   ]
  },
  {
   "cell_type": "code",
   "execution_count": 4,
   "metadata": {
    "collapsed": true
   },
   "outputs": [],
   "source": [
    "import os\n",
    "import sys\n",
    "\n",
    "# get source and data directories\n",
    "src_dir = os.path.join(os.getcwd(), os.pardir, 'src')\n",
    "data_dir = os.path.join(os.getcwd(), os.pardir, 'data')\n",
    "\n",
    "# set the source data directory as the current path\n",
    "src_data_dir = os.path.join(src_dir, 'data')\n",
    "sys.path.append(src_data_dir)"
   ]
  },
  {
   "cell_type": "code",
   "execution_count": 25,
   "metadata": {
    "collapsed": false
   },
   "outputs": [],
   "source": [
    "\n",
    "# load the web scraping modules\n",
    "%aimport movie_feedback\n",
    "import movie_feedback as mf"
   ]
  },
  {
   "cell_type": "markdown",
   "metadata": {},
   "source": [
    "### Scrape movie data and place in SQL database"
   ]
  },
  {
   "cell_type": "code",
   "execution_count": 56,
   "metadata": {
    "collapsed": false
   },
   "outputs": [
    {
     "name": "stdout",
     "output_type": "stream",
     "text": [
      "{'interest score': 9.22, 'title': u'The Dark Knight Rises'}\n",
      "{'interest score': 2.28, 'title': u'The Possession'}\n",
      "{'interest score': 1.1, 'title': u'Piranha 3DD'}\n",
      "{'interest score': 0.84, 'title': u'Titanic'}\n",
      "{'interest score': 3.61, 'title': u'The Amazing Spider-Man'}\n",
      "{'interest score': 3.1, 'title': u'To Kill A Mockingbird'}\n",
      "{'interest score': 3.69, 'title': u'Journey 2: The Mysterious Island'}\n",
      "{'interest score': 10.08, 'title': u'Chernobyl Diaries'}\n",
      "{'interest score': 5.53, 'title': u'Life of Pi'}\n",
      "{'interest score': 10.12, 'title': u'The Avengers'}\n",
      "{'interest score': 15.21, 'title': u'Safe House'}\n",
      "{'interest score': 5.07, 'title': u'The Bourne Legacy'}\n",
      "{'interest score': 5.04, 'title': u'Red Dawn'}\n",
      "{'interest score': 5.67, 'title': u'21 Jump Street'}\n",
      "{'interest score': 5.51, 'title': u'Hotel Transylvania'}\n",
      "{'interest score': 2.5, 'title': u'John Carter'}\n",
      "{'interest score': 4.42, 'title': u'Total Recall'}\n",
      "{'interest score': 14.73, 'title': u'Think Like a Man'}\n",
      "{'interest score': 16.67, 'title': u'Red Tails'}\n",
      "{'interest score': 1.97, 'title': u'Abraham Lincoln: Vampire Hunter'}\n",
      "{'interest score': 1.13, 'title': u'Star Wars: Episode I - The Phantom Menace 3D'}\n",
      "{'interest score': 7.78, 'title': u'Bel Ami'}\n",
      "{'interest score': 5.8, 'title': u'Men in Black III'}\n",
      "{'interest score': 3.09, 'title': u'Rock of Ages'}\n",
      "{'interest score': 4.17, 'title': u'Savages'}\n",
      "{'interest score': 6.47, 'title': u'Lockout'}\n",
      "{'interest score': 4.11, 'title': u'Magic Mike'}\n",
      "{'interest score': 6.6, 'title': u'Prometheus'}\n"
     ]
    }
   ],
   "source": [
    "# get a list of movies for a particular year\n",
    "years = ['2012', '2013', '2014', '2015', '2016']\n",
    "movie_list_url = mf.get_movielist_url(years[0])\n",
    "\n",
    "# get the html for the list of movies\n",
    "movie_list_html = mf.get_html(movie_list_url)\n",
    "\n",
    "# parse the html to get a list of movies\n",
    "movie_urls = mf.get_movie_urls(movie_list_html)\n",
    "\n",
    "# scrape the desired data and convert it to csv\n",
    "mf.scrape(movie_urls)\n",
    "\n",
    "# write the csv data to SQL database\n"
   ]
  },
  {
   "cell_type": "code",
   "execution_count": null,
   "metadata": {
    "collapsed": true
   },
   "outputs": [],
   "source": []
  }
 ],
 "metadata": {
  "anaconda-cloud": {},
  "kernelspec": {
   "display_name": "Python [conda env:DAND]",
   "language": "python",
   "name": "conda-env-DAND-py"
  },
  "language_info": {
   "codemirror_mode": {
    "name": "ipython",
    "version": 2
   },
   "file_extension": ".py",
   "mimetype": "text/x-python",
   "name": "python",
   "nbconvert_exporter": "python",
   "pygments_lexer": "ipython2",
   "version": "2.7.12"
  }
 },
 "nbformat": 4,
 "nbformat_minor": 1
}
