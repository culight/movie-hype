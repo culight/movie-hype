{
 "cells": [
  {
   "cell_type": "markdown",
   "metadata": {},
   "source": [
    "### Load the relevant paths and modules"
   ]
  },
  {
   "cell_type": "code",
   "execution_count": 1,
   "metadata": {
    "collapsed": false
   },
   "outputs": [],
   "source": [
    "# set the auto-reload for the cells with %aimport\n",
    "%load_ext autoreload\n",
    "%autoreload 1"
   ]
  },
  {
   "cell_type": "code",
   "execution_count": 2,
   "metadata": {
    "collapsed": true
   },
   "outputs": [],
   "source": [
    "import os\n",
    "import sys\n",
    "\n",
    "# get source and data directories\n",
    "\n",
    "src_dir = os.path.join(os.getcwd(), os.pardir, 'src')\n",
    "data_dir = os.path.join(os.getcwd(), os.pardir, 'data')\n",
    "\n",
    "# set the source data directory as the current path\n",
    "src_data_dir = os.path.join(src_dir, 'data')\n",
    "sys.path.append(src_data_dir)"
   ]
  },
  {
   "cell_type": "code",
   "execution_count": 3,
   "metadata": {
    "collapsed": false
   },
   "outputs": [],
   "source": [
    "\n",
    "# load the web scraping modules\n",
    "%aimport feedback\n",
    "import feedback as fb"
   ]
  },
  {
   "cell_type": "code",
   "execution_count": 4,
   "metadata": {
    "collapsed": true
   },
   "outputs": [],
   "source": [
    "%aimport database\n",
    "import database as db\n",
    "import sqlite3"
   ]
  },
  {
   "cell_type": "markdown",
   "metadata": {},
   "source": [
    "### Insert movie details data into SQL database"
   ]
  },
  {
   "cell_type": "code",
   "execution_count": 5,
   "metadata": {
    "collapsed": false
   },
   "outputs": [],
   "source": [
    "movie_db = os.path.join(data_dir, 'processed/movie_hype.db')\n",
    "db.create_file(movie_db)"
   ]
  },
  {
   "cell_type": "code",
   "execution_count": 6,
   "metadata": {
    "collapsed": false
   },
   "outputs": [
    {
     "name": "stdout",
     "output_type": "stream",
     "text": [
      "clearing tables...\n",
      "done!\n"
     ]
    }
   ],
   "source": [
    "connection = sqlite3.connect(db.DB_FILE)\n",
    "connection.text_factory = str\n",
    "db.clear_tables(connection)"
   ]
  },
  {
   "cell_type": "code",
   "execution_count": 7,
   "metadata": {
    "collapsed": false
   },
   "outputs": [
    {
     "name": "stdout",
     "output_type": "stream",
     "text": [
      "creating tables...\n",
      "done!\n"
     ]
    }
   ],
   "source": [
    "db.create_tables(connection)"
   ]
  },
  {
   "cell_type": "code",
   "execution_count": 8,
   "metadata": {
    "collapsed": false
   },
   "outputs": [
    {
     "name": "stdout",
     "output_type": "stream",
     "text": [
      "('inserting ', '/Users/dmoton/projects/data_projects/movie-hype/notebooks/../data/external/MovieData.csv', 'into', '/Users/dmoton/projects/data_projects/movie-hype/notebooks/../data/processed/movie_hype.db', '...')\n",
      "done!\n"
     ]
    }
   ],
   "source": [
    "movie_csv = os.path.join(data_dir, 'external/MovieData.csv')\n",
    "db.insert_movies(movie_csv, connection)"
   ]
  },
  {
   "cell_type": "markdown",
   "metadata": {},
   "source": [
    "### Scrape movie data and place in SQL database"
   ]
  },
  {
   "cell_type": "code",
   "execution_count": 32,
   "metadata": {
    "collapsed": false
   },
   "outputs": [],
   "source": [
    "# get a list of movies for a particular year\n",
    "years = ['2012', '2013', '2014', '2015', '2016']\n",
    "\n",
    "# get a list of movie urls for each desired year\n",
    "movie_urls = fb.get_movie_urls(years)"
   ]
  },
  {
   "cell_type": "code",
   "execution_count": 33,
   "metadata": {
    "collapsed": false
   },
   "outputs": [
    {
     "name": "stdout",
     "output_type": "stream",
     "text": [
      "scraping data from movie website...\n",
      "executing query...\n",
      "done!\n"
     ]
    },
    {
     "name": "stderr",
     "output_type": "stream",
     "text": [
      "/Users/dmoton/projects/data_projects/movie-hype/notebooks/../src/data/feedback.py:54: UnicodeWarning: Unicode equal comparison failed to convert both arguments to Unicode - interpreting them as being unequal\n",
      "  if title not in names:\n"
     ]
    },
    {
     "name": "stdout",
     "output_type": "stream",
     "text": [
      "Piranha 3DD\n",
      "Mother's Day\n",
      "Titanic\n",
      "To Kill A Mockingbird\n",
      "Gone\n",
      "Chimpanzee\n",
      "The Secret World of Arrietty\n",
      "The Intouchables\n",
      "Oz: The Great and Powerful\n",
      "Closed Circuit\n",
      "A Haunted House\n",
      "The To-Do List\n",
      "Grandmasters\n",
      "Addicted\n",
      "Nymphomaniac: Part One\n",
      "Legends of Oz: Dorothy's Return\n",
      "Transformers 4: Age of Extinction\n",
      "In Secret\n",
      "Stalingrad\n",
      "Foxcatcher\n",
      "Star Wars: The Force Awakens\n",
      "The Fantastic Four\n",
      "Kingsman: The Secret Service\n",
      "The American Dream\n",
      "The DUFF\n",
      "Underdogs\n",
      "Unfriended\n",
      "Serena\n",
      "The Gallows\n",
      "Zootopia\n",
      "A Monster Calls\n",
      "Rise of the Legend\n",
      "Max Steel\n",
      "Morgan\n",
      "Demon\n",
      "Patriots Day\n",
      "Masterminds\n",
      "Hidden Figures\n",
      "Sherlock: The Abominable Bride\n",
      "Pandemic\n",
      "Passengers\n",
      "Mechanic: Resurrection\n",
      "Moana\n",
      "The Legend of Tarzan\n",
      "The Founder\n",
      "L.O.R.D.\n",
      "Keeping Up with the Joneses\n",
      "Rogue One: A Star Wars Story\n",
      "The Huntsman: Winter's War\n",
      "Captain America: Civil War\n",
      "Central Intelligence\n",
      "done!\n"
     ]
    }
   ],
   "source": [
    "# scrape the desired data and convert it to csv\n",
    "movie_data = []\n",
    "movie_data = fb.scrape(movie_urls, connection)"
   ]
  },
  {
   "cell_type": "code",
   "execution_count": 34,
   "metadata": {
    "collapsed": false
   },
   "outputs": [
    {
     "name": "stdout",
     "output_type": "stream",
     "text": [
      "('creating ', 'movie_feedback.csv', '...')\n",
      "done!\n"
     ]
    }
   ],
   "source": [
    "interim_data_dir = os.path.join(data_dir, 'interim')\n",
    "fb.convert_to_csv(movie_data, interim_data_dir, 'movie_feedback.csv')"
   ]
  },
  {
   "cell_type": "code",
   "execution_count": 35,
   "metadata": {
    "collapsed": false
   },
   "outputs": [
    {
     "ename": "IntegrityError",
     "evalue": "UNIQUE constraint failed: feedback.name",
     "output_type": "error",
     "traceback": [
      "\u001b[0;31m---------------------------------------------------------------------------\u001b[0m",
      "\u001b[0;31mIntegrityError\u001b[0m                            Traceback (most recent call last)",
      "\u001b[0;32m<ipython-input-35-3dc139c1aa34>\u001b[0m in \u001b[0;36m<module>\u001b[0;34m()\u001b[0m\n\u001b[1;32m      1\u001b[0m \u001b[0mfeedback_csv\u001b[0m \u001b[0;34m=\u001b[0m \u001b[0mos\u001b[0m\u001b[0;34m.\u001b[0m\u001b[0mpath\u001b[0m\u001b[0;34m.\u001b[0m\u001b[0mjoin\u001b[0m\u001b[0;34m(\u001b[0m\u001b[0minterim_data_dir\u001b[0m\u001b[0;34m,\u001b[0m \u001b[0;34m'movie_feedback.csv'\u001b[0m\u001b[0;34m)\u001b[0m\u001b[0;34m\u001b[0m\u001b[0m\n\u001b[0;32m----> 2\u001b[0;31m \u001b[0mdb\u001b[0m\u001b[0;34m.\u001b[0m\u001b[0minsert_feedback\u001b[0m\u001b[0;34m(\u001b[0m\u001b[0mfeedback_csv\u001b[0m\u001b[0;34m,\u001b[0m \u001b[0mconnection\u001b[0m\u001b[0;34m)\u001b[0m\u001b[0;34m\u001b[0m\u001b[0m\n\u001b[0m",
      "\u001b[0;32m/Users/dmoton/projects/data_projects/movie-hype/notebooks/../src/data/database.py\u001b[0m in \u001b[0;36minsert_feedback\u001b[0;34m(input_file, connection)\u001b[0m\n\u001b[1;32m     62\u001b[0m         \u001b[0mrecords\u001b[0m \u001b[0;34m=\u001b[0m \u001b[0;34m[\u001b[0m\u001b[0mrecord\u001b[0m \u001b[0;32mfor\u001b[0m \u001b[0mrecord\u001b[0m \u001b[0;32min\u001b[0m \u001b[0mreader\u001b[0m\u001b[0;34m]\u001b[0m\u001b[0;34m\u001b[0m\u001b[0m\n\u001b[1;32m     63\u001b[0m         cursor.executemany(\"INSERT INTO feedback (name, interest, rating, \\\n\u001b[0;32m---> 64\u001b[0;31m             review_count) VALUES (?, ?, ?, ?)\", records)\n\u001b[0m\u001b[1;32m     65\u001b[0m         \u001b[0;32mprint\u001b[0m\u001b[0;34m(\u001b[0m\u001b[0;34m'done!'\u001b[0m\u001b[0;34m)\u001b[0m\u001b[0;34m\u001b[0m\u001b[0m\n\u001b[1;32m     66\u001b[0m     \u001b[0mconnection\u001b[0m\u001b[0;34m.\u001b[0m\u001b[0mcommit\u001b[0m\u001b[0;34m(\u001b[0m\u001b[0;34m)\u001b[0m\u001b[0;34m\u001b[0m\u001b[0m\n",
      "\u001b[0;31mIntegrityError\u001b[0m: UNIQUE constraint failed: feedback.name"
     ]
    }
   ],
   "source": [
    "feedback_csv = os.path.join(interim_data_dir, 'movie_feedback.csv')\n",
    "db.insert_feedback(feedback_csv, connection)"
   ]
  },
  {
   "cell_type": "code",
   "execution_count": null,
   "metadata": {
    "collapsed": true
   },
   "outputs": [],
   "source": []
  }
 ],
 "metadata": {
  "anaconda-cloud": {},
  "kernelspec": {
   "display_name": "Python [conda env:DAND]",
   "language": "python",
   "name": "conda-env-DAND-py"
  },
  "language_info": {
   "codemirror_mode": {
    "name": "ipython",
    "version": 2
   },
   "file_extension": ".py",
   "mimetype": "text/x-python",
   "name": "python",
   "nbconvert_exporter": "python",
   "pygments_lexer": "ipython2",
   "version": "2.7.12"
  }
 },
 "nbformat": 4,
 "nbformat_minor": 1
}
