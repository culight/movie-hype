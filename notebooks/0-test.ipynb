{
 "cells": [
  {
   "cell_type": "markdown",
   "metadata": {},
   "source": [
    "# Test the data collection methods\n",
    "This module scrapes data from movieinsider.com and uses exploratory data analysis to determine which movies were \"overrated\" and which were \"underrated\". "
   ]
  },
  {
   "cell_type": "markdown",
   "metadata": {},
   "source": [
    "## Definitions and Terminology\n",
    "Overrated is defined as \"have a higher opinion of (someone or something) than is deserved\". In the context of movies, I will define an overrated movie as a movie with relatively great exposure and fanfare pre-release, but relatively poor ratings post-release. "
   ]
  },
  {
   "cell_type": "markdown",
   "metadata": {},
   "source": [
    "## Running the Script"
   ]
  },
  {
   "cell_type": "code",
   "execution_count": 1,
   "metadata": {
    "collapsed": false
   },
   "outputs": [],
   "source": [
    "# set the auto-reload for the cells with %aimport\n",
    "%load_ext autoreload\n",
    "%autoreload 1\n",
    "\n",
    "import os\n",
    "import sys\n",
    "\n",
    "# get source and data directories\n",
    "src_dir = os.path.join(os.getcwd(), os.pardir, 'src')\n",
    "data_dir = os.path.join(os.getcwd(), os.pardir, 'data')\n",
    "\n",
    "# set the source data directory as the current path\n",
    "src_data_dir = os.path.join(src_dir, 'data')\n",
    "sys.path.append(src_data_dir)"
   ]
  },
  {
   "cell_type": "code",
   "execution_count": 2,
   "metadata": {
    "collapsed": false
   },
   "outputs": [
    {
     "name": "stdout",
     "output_type": "stream",
     "text": [
      "https://www.movieinsider.com/movies/popular/2015\n"
     ]
    }
   ],
   "source": [
    "%aimport get_moviedata\n",
    "from get_moviedata import get_url, get_html, scrape_html\n",
    "\n",
    "url = get_url('/popular/2015')\n",
    "print(url)"
   ]
  },
  {
   "cell_type": "code",
   "execution_count": 3,
   "metadata": {
    "collapsed": false
   },
   "outputs": [],
   "source": [
    "html = get_html(url)"
   ]
  },
  {
   "cell_type": "code",
   "execution_count": 11,
   "metadata": {
    "collapsed": false
   },
   "outputs": [
    {
     "name": "stdout",
     "output_type": "stream",
     "text": [
      "https://www.movieinsider.com/m7452/cinderella/\n"
     ]
    }
   ],
   "source": [
    "from bs4 import BeautifulSoup\n",
    "soup = BeautifulSoup(html, 'html.parser')\n",
    "\n",
    "movie_thumbnails = []\n",
    "movie_urls = []\n",
    "\n",
    "movie_thumbnails = [t for t in soup.find_all('div', {'class':'thumbnail'})] \n",
    "for movie_thumbnail in movie_thumbnails:\n",
    "    for movie in movie_thumbnail.children:\n",
    "        if movie.name == 'a':\n",
    "            movie_urls.append(str(movie['href']))\n",
    "print(movie_urls[1])"
   ]
  },
  {
   "cell_type": "code",
   "execution_count": 5,
   "metadata": {
    "collapsed": false
   },
   "outputs": [
    {
     "name": "stdout",
     "output_type": "stream",
     "text": [
      "('will see:', 3672)\n",
      "(\"won't see:\", 1678)\n"
     ]
    }
   ],
   "source": [
    "rev = movie_urls[0][0]\n",
    "rev_html = get_html(rev)\n",
    "rev_soup = BeautifulSoup(rev_html, 'html.parser')\n",
    "will_see = rev_soup.find('button', {'class':'btn-success'})\n",
    "wont_see = rev_soup.find('button', {'class':'btn-danger'})\n",
    "\n",
    "for child in will_see.children:\n",
    "    if child.name == 'span' and 'seeCount' in child['id']:\n",
    "        print('will see:', int(child.string.replace(',','')))\n",
    "        \n",
    "for child in wont_see.children:\n",
    "    if child.name == 'span' and 'seeCount' in child['id']:\n",
    "        print('won\\'t see:', int(child.string.replace(',','')))"
   ]
  },
  {
   "cell_type": "code",
   "execution_count": null,
   "metadata": {
    "collapsed": true
   },
   "outputs": [],
   "source": []
  }
 ],
 "metadata": {
  "anaconda-cloud": {},
  "kernelspec": {
   "display_name": "Python [conda env:DAND]",
   "language": "python",
   "name": "conda-env-DAND-py"
  },
  "language_info": {
   "codemirror_mode": {
    "name": "ipython",
    "version": 2
   },
   "file_extension": ".py",
   "mimetype": "text/x-python",
   "name": "python",
   "nbconvert_exporter": "python",
   "pygments_lexer": "ipython2",
   "version": "2.7.12"
  }
 },
 "nbformat": 4,
 "nbformat_minor": 1
}
